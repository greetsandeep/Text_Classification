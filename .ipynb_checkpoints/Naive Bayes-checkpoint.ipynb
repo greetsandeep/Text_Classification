{
 "cells": [
  {
   "cell_type": "code",
   "execution_count": 1,
   "metadata": {
    "collapsed": true
   },
   "outputs": [],
   "source": [
    "import sys\n",
    "import csv\n",
    "import sklearn\n",
    "import unicodedata\n",
    "import math\n",
    "from nltk.tokenize import *"
   ]
  },
  {
   "cell_type": "code",
   "execution_count": 24,
   "metadata": {
    "collapsed": false
   },
   "outputs": [
    {
     "name": "stdout",
     "output_type": "stream",
     "text": [
      "0.0\n"
     ]
    }
   ],
   "source": [
    "INPUT_FILE = sys.argv[1]\n",
    "OUTPUT_FILE = sys.argv[2]\n",
    "# 6 categories and 21 subcategories\n",
    "word_counts = {\"1\":{},\"2\":{},\"3\":{},\"4\":{},\"5\":{},\"6\":{}}\n",
    "word_counts_sub = {\"1\":{},\"2\":{},\"3\":{},\"4\":{},\"5\":{},\"6\":{},\"7\":{},\"8\":{},\"9\":{},\"10\":{},\"11\":{},\"12\":{},\"13\":{},\"14\":{},\"15\":{},\"16\":{},\"17\":{},\"18\":{},\"19\":{},\"20\":{},\"21\":{}}\n",
    "vocab = {}\n",
    "category_prior = {\"1\":0.0,\"2\":0.0,\"3\":0.0,\"4\":0.0,\"5\":0.0,\"6\":0.0}\n",
    "subcategory_prior = {}\n",
    "row_num = 1\n",
    "prob_word_given_label =[0.0] * 6\n",
    "prob_label_given_word = [0.0] * 6\n",
    "prob_word_give_sublabel = [0.0] * 21\n",
    "prob_sublabel_given_word = [0.0] * 21\n",
    "print prob_sublabel_given_word[1]"
   ]
  },
  {
   "cell_type": "code",
   "execution_count": 3,
   "metadata": {
    "collapsed": false
   },
   "outputs": [
    {
     "name": "stdout",
     "output_type": "stream",
     "text": [
      "{1: 0.0, 2: 0.0, 3: 0.0, 4: 0.0, 5: 0.0, 6: 0.0, 7: 0.0, 8: 0.0, 9: 0.0, 10: 0.0, 11: 0.0, 12: 0.0, 13: 0.0, 14: 0.0, 15: 0.0, 16: 0.0, 17: 0.0, 18: 0.0, 19: 0.0, 20: 0.0, 21: 0.0}\n",
      "{'1': 0.0, '3': 0.0, '2': 0.0, '5': 0.0, '4': 0.0, '6': 0.0}\n"
     ]
    }
   ],
   "source": [
    "\n",
    "for i in range(1,22):\n",
    "    subcategory_prior[i] = 0.0\n",
    "print subcategory_prior\n",
    "print category_prior\n"
   ]
  },
  {
   "cell_type": "code",
   "execution_count": 4,
   "metadata": {
    "collapsed": true
   },
   "outputs": [],
   "source": [
    "def count_words(words):\n",
    "    wc = {}\n",
    "    for word in words:\n",
    "        wc[word.encode(\"ascii\")] = wc.get(word.encode(\"ascii\"),0.0) + 1.0\n",
    "    \n",
    "    return wc"
   ]
  },
  {
   "cell_type": "markdown",
   "metadata": {},
   "source": [
    "<h2> for training data </h2>"
   ]
  },
  {
   "cell_type": "code",
   "execution_count": 15,
   "metadata": {
    "collapsed": false
   },
   "outputs": [
    {
     "name": "stdout",
     "output_type": "stream",
     "text": [
      "{'1': 4823.0, '3': 12.0, '2': 4096.0, '5': 4251.0, '4': 1394.0, '6': 5424.0}\n",
      "6\n"
     ]
    }
   ],
   "source": [
    "tknzr = TweetTokenizer(strip_handles=True, reduce_len=True)\n",
    "with open('feature_svm_train.csv','rb') as readfile:\n",
    "    with open(OUTPUT_FILE,'w') as writefile:\n",
    "        \n",
    "        reader = csv.reader(readfile, skipinitialspace =False, quoting=csv.QUOTE_MINIMAL)\n",
    "        writer = csv.writer(writefile, quoting = csv.QUOTE_MINIMAL)\n",
    "        \n",
    "        for row in reader:\n",
    "            if row_num<=20000:\n",
    "                x = tknzr.tokenize(row[0])\n",
    "                for words in x:\n",
    "                    words.encode(\"ascii\",\"ignore\")\n",
    "                category_prior[row[1]] += 1\n",
    "                subcategory_prior[int(row[2])] +=1\n",
    "                counts = count_words(x)\n",
    "                \n",
    "                #print counts\n",
    "                for word, count in list(counts.items()):\n",
    "                    if word not in vocab:\n",
    "                        vocab[word] = 0.0\n",
    "                    if word not in word_counts[row[1]]:\n",
    "                        word_counts[row[1]][word] = 0.0\n",
    "                    if word not in word_counts_sub[row[2]]:\n",
    "                        word_counts_sub[row[2]][word] = 0.0\n",
    "                    \n",
    "                    vocab[word] = vocab[word] + count\n",
    "                    word_counts[row[1]][word]+=count\n",
    "                    word_counts_sub[row[2]][word] += count\n",
    "                row_num += 1\n",
    "            else:\n",
    "                break\n",
    "        print category_prior\n",
    "        print len(list(word_counts.values()))\n",
    "                "
   ]
  },
  {
   "cell_type": "markdown",
   "metadata": {
    "collapsed": true
   },
   "source": [
    "<h2> For samples </h2>"
   ]
  },
  {
   "cell_type": "code",
   "execution_count": 27,
   "metadata": {
    "collapsed": false
   },
   "outputs": [],
   "source": [
    "with open('feature_svm_test.csv') as examplefile:\n",
    "    reader = csv.reader(examplefile, skipinitialspace =False, quoting=csv.QUOTE_MINIMAL)\n",
    "    list_item = 1\n",
    "    correct = 0\n",
    "    \n",
    "    for row in reader:\n",
    "        if list_item<=100:\n",
    "            x = tknzr.tokenize(row[0])\n",
    "            for words in x:\n",
    "                words.encode(\"ascii\",\"ignore\")\n",
    "            \n",
    "            counts = count_words(x)\n",
    "            #print counts\n",
    "            category_classification = {\"1\":0.0,\"2\":0.0,\"3\":0.0,\"4\":0.0,\"5\":0.0,\"6\":0.0}\n",
    "            for word, count in list(counts.items()):\n",
    "                if word not in vocab:\n",
    "                    continue\n",
    "                for i in range(len(list(word_counts.values()))):\n",
    "                    prob_word_given_label[i] = word_counts[str(i+1)].get(word,0.0)/sum(word_counts[str(i+1)].values())\n",
    "                    #print prob_word_given_label[i]\n",
    "                for i in range(len(list(word_counts_sub.values()))):\n",
    "                    prob_word_give_sublabel[i] = word_counts_sub[str(i+1)].get(word,0.0)/sum(word_counts_sub[str(i+1)].values())\n",
    "                i = 0\n",
    "                while i < len(prob_word_given_label):\n",
    "                    #print i\n",
    "                    prob_label_given_word[i]=prob_word_given_label[i] * category_prior[str(i+1)]/sum(category_prior.values())\n",
    "                    i = i + 1\n",
    "                i = 0\n",
    "                while i<len(prob_word_give_sublabel):\n",
    "                    prob_sublabel_given_word[i] = prob_word_give_sublabel[int(i)] * subcategory_prior[str(i+1)]/sum(subcategory_prior.values())\n",
    "                    i = i + 1\n",
    "                print prob_label_given_word\n",
    "            list_item +=1\n",
    "        else:\n",
    "            break\n",
    "            "
   ]
  },
  {
   "cell_type": "code",
   "execution_count": null,
   "metadata": {
    "collapsed": true
   },
   "outputs": [],
   "source": []
  }
 ],
 "metadata": {
  "anaconda-cloud": {},
  "kernelspec": {
   "display_name": "Python [conda root]",
   "language": "python",
   "name": "conda-root-py"
  },
  "language_info": {
   "codemirror_mode": {
    "name": "ipython",
    "version": 2
   },
   "file_extension": ".py",
   "mimetype": "text/x-python",
   "name": "python",
   "nbconvert_exporter": "python",
   "pygments_lexer": "ipython2",
   "version": "2.7.12"
  }
 },
 "nbformat": 4,
 "nbformat_minor": 1
}
